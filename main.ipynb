{
 "cells": [
  {
   "cell_type": "markdown",
   "id": "59d92972ad1dcdd5",
   "metadata": {},
   "source": [
    "# MINOR PROJECT - 6TH SEM\n",
    "FACE RECOGNITION MODEL\n"
   ]
  },
  {
   "cell_type": "markdown",
   "source": [
    " # Modules Import"
   ],
   "metadata": {
    "collapsed": false
   },
   "id": "37492ac58057e09a"
  },
  {
   "cell_type": "code",
   "outputs": [],
   "source": [
    "import cv2\n",
    "import os\n",
    "import tensorflow as tf\n",
    "from tensorflow import keras\n",
    "from tensorflow.keras.preprocessing.image import ImageDataGenerator\n",
    "from tensorflow.keras.models import Sequential\n",
    "from tensorflow.keras.layers import Conv2D, MaxPooling2D, Flatten, Dense\n"
   ],
   "metadata": {
    "collapsed": false,
    "ExecuteTime": {
     "end_time": "2024-03-08T19:56:35.556373Z",
     "start_time": "2024-03-08T19:56:35.536775Z"
    }
   },
   "id": "50d0257bf007605b",
   "execution_count": 7
  },
  {
   "cell_type": "markdown",
   "id": "75201bac3a06eaae",
   "metadata": {},
   "source": [
    " # Data Acquisition and Preprocessing"
   ]
  },
  {
   "cell_type": "code",
   "execution_count": 1,
   "id": "3ff41d6350e8f1e",
   "metadata": {
    "ExecuteTime": {
     "end_time": "2024-03-08T20:34:22.788991Z",
     "start_time": "2024-03-08T20:33:54.899980Z"
    }
   },
   "outputs": [
    {
     "name": "stdout",
     "output_type": "stream",
     "text": [
      "Capturing images for person 0...\n"
     ]
    }
   ],
   "source": [
    "\n",
    "# Function to capture images and save them to individual folders\n",
    "def capture_images(output_folder, num_images_per_person):\n",
    "    # Create output folder if it doesn't exist\n",
    "    if not os.path.exists(output_folder):\n",
    "        os.makedirs(output_folder)\n",
    "        print(\"Directory created successfully!\")\n",
    "\n",
    "    # Initialize OpenCV's video capture\n",
    "    cap = cv2.VideoCapture(0)\n",
    "\n",
    "    # Initialize face detector (optional)\n",
    "    face_cascade = cv2.CascadeClassifier(cv2.data.haarcascades + 'haarcascade_frontalface_default.xml')\n",
    "\n",
    "    # Loop to capture images\n",
    "    for person_id in range(num_persons):\n",
    "        person_folder = os.path.join(output_folder)\n",
    "        if not os.path.exists(person_folder):\n",
    "            os.makedirs(person_folder)\n",
    "\n",
    "        print(f\"Capturing images for person {person_id}...\")\n",
    "\n",
    "        # Loop to capture multiple images per person\n",
    "        for img_count in range(num_images_per_person):\n",
    "            ret, frame = cap.read()\n",
    "\n",
    "            # Convert frame to grayscale for face detection (optional)\n",
    "            gray = cv2.cvtColor(frame, cv2.COLOR_BGR2GRAY)\n",
    "\n",
    "            # Detect faces (optional)\n",
    "            faces = face_cascade.detectMultiScale(gray, scaleFactor=1.3, minNeighbors=5)\n",
    "\n",
    "            for (x, y, w, h) in faces:\n",
    "                # Save the detected face region\n",
    "                face_img = frame[y:y+h, x:x+w]\n",
    "                cv2.imwrite(os.path.join(person_folder, f'img_{img_count}.jpg'), face_img)\n",
    "\n",
    "            # Display captured image (optional)\n",
    "            cv2.imshow('Captured Image', frame)\n",
    "            cv2.waitKey(1000)  # Display each image for 1 second\n",
    "\n",
    "    # Release video capture\n",
    "    cap.release()\n",
    "    cv2.destroyAllWindows()\n",
    "\n",
    "# Example usage:\n",
    "folder_name = input(\"Enter the roll no : \")\n",
    "output_folder = f'dataset/Images/train/{folder_name}'\n",
    "\n",
    "num_persons = 1  # Change this according to the number of persons you want to capture\n",
    "num_images_per_person = 20  # Change this according to the number of images you want to capture per person\n",
    "\n",
    "\n",
    "capture_images(output_folder, num_images_per_person)\n"
   ]
  },
  {
   "cell_type": "markdown",
   "id": "cfda3e37b45fbfaf",
   "metadata": {},
   "source": [
    "# Model Selection and Customization"
   ]
  },
  {
   "cell_type": "code",
   "execution_count": 1,
   "id": "e08127d409a918bf",
   "metadata": {
    "ExecuteTime": {
     "end_time": "2024-02-11T05:56:27.406855900Z",
     "start_time": "2024-02-11T05:56:22.799939500Z"
    }
   },
   "outputs": [
    {
     "ename": "ImportError",
     "evalue": "cannot import name 'ImageDataGenerator' from 'keras.preprocessing.image' (C:\\Users\\adwai\\anaconda3\\envs\\tf\\lib\\site-packages\\keras\\preprocessing\\image\\__init__.py)",
     "output_type": "error",
     "traceback": [
      "\u001B[1;31m---------------------------------------------------------------------------\u001B[0m",
      "\u001B[1;31mImportError\u001B[0m                               Traceback (most recent call last)",
      "Cell \u001B[1;32mIn[1], line 2\u001B[0m\n\u001B[0;32m      1\u001B[0m \u001B[38;5;28;01mimport\u001B[39;00m \u001B[38;5;21;01mnumpy\u001B[39;00m \u001B[38;5;28;01mas\u001B[39;00m \u001B[38;5;21;01mnp\u001B[39;00m\n\u001B[1;32m----> 2\u001B[0m \u001B[38;5;28;01mfrom\u001B[39;00m \u001B[38;5;21;01mkeras\u001B[39;00m\u001B[38;5;21;01m.\u001B[39;00m\u001B[38;5;21;01mpreprocessing\u001B[39;00m\u001B[38;5;21;01m.\u001B[39;00m\u001B[38;5;21;01mimage\u001B[39;00m \u001B[38;5;28;01mimport\u001B[39;00m ImageDataGenerator\n\u001B[0;32m      3\u001B[0m \u001B[38;5;28;01mfrom\u001B[39;00m \u001B[38;5;21;01mkeras\u001B[39;00m\u001B[38;5;21;01m.\u001B[39;00m\u001B[38;5;21;01mapplications\u001B[39;00m \u001B[38;5;28;01mimport\u001B[39;00m VGGFace\n\u001B[0;32m      4\u001B[0m \u001B[38;5;28;01mfrom\u001B[39;00m \u001B[38;5;21;01mkeras\u001B[39;00m\u001B[38;5;21;01m.\u001B[39;00m\u001B[38;5;21;01mmodels\u001B[39;00m \u001B[38;5;28;01mimport\u001B[39;00m Sequential\n",
      "\u001B[1;31mImportError\u001B[0m: cannot import name 'ImageDataGenerator' from 'keras.preprocessing.image' (C:\\Users\\adwai\\anaconda3\\envs\\tf\\lib\\site-packages\\keras\\preprocessing\\image\\__init__.py)"
     ]
    }
   ],
   "source": [
    "import numpy as np\n",
    "from keras.preprocessing.image import ImageDataGenerator\n",
    "from keras.applications import VGGFace\n",
    "from keras.models import Sequential\n",
    "from keras.layers import Dense, Flatten, Dropout\n",
    "from keras.optimizers import Adam\n",
    "\n",
    "# Path to the dataset folder\n",
    "dataset_path = 'dataset'\n",
    "\n",
    "# Image dimensions\n",
    "img_width, img_height = 224, 224  # Change this according to your model's input requirements\n",
    "\n",
    "# Batch size for training\n",
    "batch_size = 32\n",
    "\n",
    "# Data augmentation\n",
    "datagen = ImageDataGenerator(\n",
    "    rescale=1./255,\n",
    "    rotation_range=20,\n",
    "    width_shift_range=0.2,\n",
    "    height_shift_range=0.2,\n",
    "    shear_range=0.2,\n",
    "    zoom_range=0.2,\n",
    "    horizontal_flip=True,\n",
    "    fill_mode='nearest'\n",
    ")\n",
    "\n",
    "# Load dataset for training\n",
    "train_generator = datagen.flow_from_directory(\n",
    "    dataset_path,\n",
    "    target_size=(img_width, img_height),\n",
    "    batch_size=batch_size,\n",
    "    class_mode='categorical'\n",
    ")\n",
    "\n",
    "# Define the base pre-trained model\n",
    "base_model = VGGFace(include_top=False, input_shape=(img_width, img_height, 3), pooling='avg')\n",
    "\n",
    "# Freeze the layers in the base model\n",
    "base_model.trainable = False\n",
    "\n",
    "# Custom classifier model on top\n",
    "model = Sequential([\n",
    "    base_model,\n",
    "    Flatten(),\n",
    "    Dense(512, activation='relu'),\n",
    "    Dropout(0.5),\n",
    "    Dense(train_generator.num_classes, activation='softmax')\n",
    "])\n",
    "\n",
    "# Compile the model\n",
    "model.compile(optimizer=Adam(lr=0.001), loss='categorical_crossentropy', metrics=['accuracy'])\n",
    "\n",
    "# Print model summary\n",
    "model.summary()\n"
   ]
  }
 ],
 "metadata": {
  "kernelspec": {
   "display_name": "Python 3 (ipykernel)",
   "language": "python",
   "name": "python3"
  },
  "language_info": {
   "codemirror_mode": {
    "name": "ipython",
    "version": 3
   },
   "file_extension": ".py",
   "mimetype": "text/x-python",
   "name": "python",
   "nbconvert_exporter": "python",
   "pygments_lexer": "ipython3",
   "version": "3.10.9"
  }
 },
 "nbformat": 4,
 "nbformat_minor": 5
}
